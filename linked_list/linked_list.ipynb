{
 "cells": [
  {
   "cell_type": "markdown",
   "id": "ea919eb8",
   "metadata": {},
   "source": [
    "# linked_list insertion"
   ]
  },
  {
   "cell_type": "code",
   "execution_count": null,
   "id": "7c622c63",
   "metadata": {},
   "outputs": [],
   "source": [
    "# insert at front"
   ]
  },
  {
   "cell_type": "code",
   "execution_count": 5,
   "id": "290d6a2b",
   "metadata": {},
   "outputs": [
    {
     "name": "stdout",
     "output_type": "stream",
     "text": [
      "1\n",
      "2\n",
      "3\n"
     ]
    }
   ],
   "source": [
    "class Node:\n",
    "     def __init__(self, data):\n",
    "        self.data = data  \n",
    "        self.next = None  \n",
    "\n",
    "# python workaround  pointer issue by making classes        \n",
    "class LinkedList:\n",
    "   \n",
    "    def __init__(self):\n",
    "        self.head = None\n",
    "        \n",
    "    def printList(self):\n",
    "        temp = self.head\n",
    "        while (temp):\n",
    "            print(temp.data)\n",
    "            temp = temp.next\n",
    "    \n",
    "    def push(self, new_data):\n",
    "        new_node = Node(new_data)\n",
    "        new_node.next = self.head\n",
    "        self.head = new_node\n",
    "        \n",
    "    def insertAfter(self, prev_node, new_data):\n",
    " \n",
    "        if prev_node is None:\n",
    "            print(\"The given previous node must inLinkedList.\")\n",
    "            return\n",
    "\n",
    "        new_node = Node(new_data)\n",
    "        new_node.next = prev_node.next\n",
    "        prev_node.next = new_node\n",
    "    \n",
    "    def append(self, new_data):\n",
    "\n",
    "        new_node = Node(new_data)\n",
    "        if self.head is None:\n",
    "            self.head = new_node\n",
    "            return\n",
    "        last = self.head\n",
    "        while (last.next):\n",
    "            last = last.next\n",
    "        last.next =  new_node\n",
    "        \n",
    "    def deleteNode(self, key):\n",
    "        temp = self.head\n",
    "         if (temp is not None):\n",
    "            if (temp.data == key):\n",
    "                self.head = temp.next\n",
    "                temp = None\n",
    "                return\n",
    "        while(temp is not None):\n",
    "            if temp.data == key:\n",
    "                break\n",
    "            prev = temp\n",
    "            temp = temp.next\n",
    "        if(temp == None):\n",
    "            return\n",
    "        prev.next = temp.next\n",
    "        temp = None\n",
    "    \n",
    "if __name__=='__main__':\n",
    " \n",
    "    # Start with the empty list\n",
    "    llist = LinkedList()\n",
    " \n",
    "    llist.head = Node(1)\n",
    "    second = Node(2)\n",
    "    third = Node(3)\n",
    "    llist.head.next = second\n",
    "    second.next = third\n",
    "    llist.printList()"
   ]
  }
 ],
 "metadata": {
  "kernelspec": {
   "display_name": "Python 3",
   "language": "python",
   "name": "python3"
  },
  "language_info": {
   "codemirror_mode": {
    "name": "ipython",
    "version": 3
   },
   "file_extension": ".py",
   "mimetype": "text/x-python",
   "name": "python",
   "nbconvert_exporter": "python",
   "pygments_lexer": "ipython3",
   "version": "3.8.8"
  }
 },
 "nbformat": 4,
 "nbformat_minor": 5
}

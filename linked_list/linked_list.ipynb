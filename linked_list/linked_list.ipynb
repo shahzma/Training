{
 "cells": [
  {
   "cell_type": "markdown",
   "id": "ea919eb8",
   "metadata": {},
   "source": [
    "# linked_list insertion"
   ]
  },
  {
   "cell_type": "code",
   "execution_count": null,
   "id": "7c622c63",
   "metadata": {},
   "outputs": [],
   "source": [
    "# insert at front"
   ]
  },
  {
   "cell_type": "code",
   "execution_count": null,
   "id": "290d6a2b",
   "metadata": {},
   "outputs": [],
   "source": [
    "# Node class\n",
    "class Node:\n",
    " \n",
    "    # Function to initialize the node object\n",
    "    def __init__(self, data):\n",
    "        self.data = data  # Assign data\n",
    "        self.next = None  # Initialize next as null\n",
    " \n",
    "# Linked List class\n",
    "class LinkedList:\n",
    "   \n",
    "    # Function to initialize the Linked List object\n",
    "    def __init__(self):\n",
    "        self.head = None\n",
    "\n",
    "    # This function is in LinkedList class\n",
    "    # Function to insert a new node at the beginning\n",
    "    def push(self, new_data):\n",
    "\n",
    "        # 1 & 2: Allocate the Node &\n",
    "        #        Put in the data\n",
    "        new_node = Node(new_data)\n",
    "\n",
    "        # 3. Make next of new Node as head\n",
    "        new_node.next = self.head\n",
    "\n",
    "        # 4. Move the head to point to new Node\n",
    "        self.head = new_node"
   ]
  }
 ],
 "metadata": {
  "kernelspec": {
   "display_name": "Python 3",
   "language": "python",
   "name": "python3"
  },
  "language_info": {
   "codemirror_mode": {
    "name": "ipython",
    "version": 3
   },
   "file_extension": ".py",
   "mimetype": "text/x-python",
   "name": "python",
   "nbconvert_exporter": "python",
   "pygments_lexer": "ipython3",
   "version": "3.8.8"
  }
 },
 "nbformat": 4,
 "nbformat_minor": 5
}

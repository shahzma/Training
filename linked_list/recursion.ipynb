{
 "cells": [
  {
   "cell_type": "code",
   "execution_count": null,
   "id": "d19cb57a",
   "metadata": {},
   "outputs": [],
   "source": [
    "# recursion thimb rule  - nested loop always replace with recursion\n",
    "# bets values for testing are 0 , 1 , 3 and occasionally 4\n",
    "#  always go top down for recursion.\n",
    "# use leap of faith i.e assume you will have a solution of n-1  problems if you somehow relate it to n .\n",
    "# dont forget to specify base case.\n",
    "# mathematically speaking for sum of n no f(n) = f(n-1)+n when n!=0 \n",
    "#                                              = 0 when n = 0\n",
    "# so recursively it becomes:-\n",
    "# def f(n):\n",
    "#     if n =0:\n",
    "#         return 0\n",
    "#     else:\n",
    "#         return f(n-1)+n"
   ]
  },
  {
   "cell_type": "code",
   "execution_count": null,
   "id": "3ee2b4ec",
   "metadata": {},
   "outputs": [],
   "source": [
    "# recursive leap of faith:-\n",
    "# assume simpler cases work out\n"
   ]
  },
  {
   "cell_type": "code",
   "execution_count": null,
   "id": "f66e9a65",
   "metadata": {},
   "outputs": [],
   "source": [
    "# write a function that takes 2 input n and m and output no of unique path from top left corner to bottom right corner\n",
    "# you are moving cell wise\n",
    "# going to use recursive leap of faith andd assume only one elment ie m = n =1 then no. of ways  = 2\n",
    "# rln b/w (m,n) and (m,n-1)\n",
    "# f(m,n) = f(m,n-1)+ m-1\n",
    "# f(m ,n) = 2 when m = n = 1\n",
    "\n",
    "def f(m , n):\n",
    "    if(m == 1 and n == 1):\n",
    "        return 2\n",
    "    elif m==1:\n",
    "        return 2 + f(m-1 , 1)\n",
    "    elif n == 1:\n",
    "        return 2 + f(1 , n-1)\n",
    "    else:\n",
    "        return m-1 + f(m , n-1)"
   ]
  },
  {
   "cell_type": "code",
   "execution_count": null,
   "id": "6998938e",
   "metadata": {},
   "outputs": [],
   "source": [
    "def f(m , n):\n",
    "    if (m==1 or n==1):\n",
    "        return 1\n",
    "    else:\n",
    "#         return f(m , n-1) + 1\n",
    "        return f(m, n-1)+f(m-1 , n)"
   ]
  },
  {
   "cell_type": "code",
   "execution_count": null,
   "id": "8695c736",
   "metadata": {},
   "outputs": [],
   "source": [
    "# recursion  useful when we break a problem in 2 or more subproblems witn n-1 or m-1"
   ]
  },
  {
   "cell_type": "code",
   "execution_count": null,
   "id": "b281ddc0",
   "metadata": {},
   "outputs": [],
   "source": [
    "# wirte a function to calculate the count of numbers of ways you can partititon n objects using parts upto m\n",
    "# solving recursion requires working out some examples with small values"
   ]
  },
  {
   "cell_type": "code",
   "execution_count": null,
   "id": "ae6ecdd3",
   "metadata": {},
   "outputs": [],
   "source": [
    "# f(n , m) = "
   ]
  }
 ],
 "metadata": {
  "kernelspec": {
   "display_name": "Python 3",
   "language": "python",
   "name": "python3"
  },
  "language_info": {
   "codemirror_mode": {
    "name": "ipython",
    "version": 3
   },
   "file_extension": ".py",
   "mimetype": "text/x-python",
   "name": "python",
   "nbconvert_exporter": "python",
   "pygments_lexer": "ipython3",
   "version": "3.8.8"
  }
 },
 "nbformat": 4,
 "nbformat_minor": 5
}

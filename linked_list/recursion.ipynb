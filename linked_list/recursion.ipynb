{
 "cells": [
  {
   "cell_type": "code",
   "execution_count": null,
   "id": "406fa1bd",
   "metadata": {},
   "outputs": [],
   "source": [
    "# recursion thimb rule  - nested loop always replace with recursion\n",
    "# bets values for testing are 0 , 1 , 3 and occasionally 4\n",
    "#  always go top down for recursion.\n",
    "# use leap of faith i.e assume you will have a solution of n-1  problems if you somehow relate it to n .\n",
    "# dont forget to specify base case.\n",
    "# mathematically speaking for sum of n no f(n) = f(n-1)+n when n!=0 \n",
    "#                                              = 0 when n = 0\n",
    "# so recursively it becomes:-\n",
    "# def f(n):\n",
    "#     if n =0:\n",
    "#         return 0\n",
    "#     else:\n",
    "#         return f(n-1)+n"
   ]
  },
  {
   "cell_type": "code",
   "execution_count": null,
   "id": "3039776b",
   "metadata": {},
   "outputs": [],
   "source": [
    "# recursive leap of faith:-\n",
    "# assume simpler cases work out\n"
   ]
  },
  {
   "cell_type": "code",
   "execution_count": null,
   "id": "90a5bf65",
   "metadata": {},
   "outputs": [],
   "source": [
    "# write a function that takes 2 input n and m and output no of unique path from top left corner to bottom right corner\n",
    "# you are moving cell wise\n",
    "# going to use recursive leap of faith andd assume only one elment ie m = n =1 then no. of ways  = 2\n",
    "# rln b/w (m,n) and (m,n-1)\n",
    "# f(m,n) = f(m,n-1)+ m-1\n",
    "# f(m ,n) = 2 when m = n = 1\n",
    "\n",
    "def f(m , n):\n",
    "    if(m == 1 and n == 1):\n",
    "        return 2\n",
    "    elif m==1:\n",
    "        return 2 + f(m-1 , 1)\n",
    "    elif n == 1:\n",
    "        return 2 + f(1 , n-1)\n",
    "    else:\n",
    "        return m-1 + f(m , n-1)"
   ]
  }
 ],
 "metadata": {
  "kernelspec": {
   "display_name": "Python 3",
   "language": "python",
   "name": "python3"
  },
  "language_info": {
   "codemirror_mode": {
    "name": "ipython",
    "version": 3
   },
   "file_extension": ".py",
   "mimetype": "text/x-python",
   "name": "python",
   "nbconvert_exporter": "python",
   "pygments_lexer": "ipython3",
   "version": "3.8.8"
  }
 },
 "nbformat": 4,
 "nbformat_minor": 5
}
